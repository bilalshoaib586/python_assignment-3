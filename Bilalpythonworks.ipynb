{
 "cells": [
  {
   "cell_type": "code",
   "execution_count": 6,
   "id": "8dcadb9f",
   "metadata": {},
   "outputs": [
    {
     "name": "stdout",
     "output_type": "stream",
     "text": [
      "Twinkle,twinkle,little star, \n",
      "\t How I wonder what yoou are! \n",
      "\t\t Up above the world so high, \n",
      "\t\t Like a diamond in the sky.\n",
      " Twinkle,twinkle,little star, \n",
      "\t How I wonder what yoou are\n"
     ]
    }
   ],
   "source": [
    "# 1 Write a python program to print the folllowing string in a specific format(see the output).\n",
    "print(\"Twinkle,twinkle,little star, \\n\\t How I wonder what yoou are! \\n\\t\\t Up above the world so high, \\n\\t\\t Like a diamond in the sky.\\n Twinkle,twinkle,little star, \\n\\t How I wonder what yoou are\"); \n"
   ]
  },
  {
   "cell_type": "code",
   "execution_count": 7,
   "id": "45aba15f",
   "metadata": {},
   "outputs": [
    {
     "name": "stdout",
     "output_type": "stream",
     "text": [
      "Phython Version : 3.8.8 (default, Apr 13 2021, 15:08:03) [MSC v.1916 64 bit (AMD64)]\n"
     ]
    }
   ],
   "source": [
    "# 2 Write a Python program to get the Python version you are using. \n",
    "import sys\n",
    "print(\"Phython Version :\" , sys.version);"
   ]
  },
  {
   "cell_type": "code",
   "execution_count": 8,
   "id": "5343b03b",
   "metadata": {},
   "outputs": [
    {
     "name": "stdout",
     "output_type": "stream",
     "text": [
      "Current Time and Date\n",
      "05:21:02 \n",
      "24_10_2021 \n"
     ]
    }
   ],
   "source": [
    "# 3 Write a Python program to display the current date and time.\n",
    "import datetime\n",
    "now= datetime.datetime.now();\n",
    "print(\"Current Time and Date\");\n",
    "print(now.strftime(\"%H:%M:%S \\n%d_%m_%Y \"));"
   ]
  },
  {
   "cell_type": "code",
   "execution_count": 9,
   "id": "d1d666c1",
   "metadata": {},
   "outputs": [
    {
     "name": "stdout",
     "output_type": "stream",
     "text": [
      "radius of a circle=2\n",
      "12.568\n"
     ]
    }
   ],
   "source": [
    "# 4 Write a Python program which accepts the radius of a circle from the user and compute the area.\n",
    "r= int(input(\"radius of a circle=\"));\n",
    "area= (3.142)*(r**2);\n",
    "print(area);"
   ]
  },
  {
   "cell_type": "code",
   "execution_count": 121,
   "id": "9c278b6c",
   "metadata": {},
   "outputs": [
    {
     "name": "stdout",
     "output_type": "stream",
     "text": [
      "First name: Bilal\n",
      "Last name: Shoaib\n",
      "biaohS laliB\n"
     ]
    }
   ],
   "source": [
    "# 5 Write a Python program which accepts the user's first name and last name and print them in reverse order with a space between them.\n",
    "first_name= input(\"First name: \");\n",
    "last_name= input(\"Last name: \");\n",
    "full_name= first_name+\" \"+last_name;\n",
    "reverse=full_name[::-1];\n",
    "print(reverse);"
   ]
  },
  {
   "cell_type": "code",
   "execution_count": 150,
   "id": "1b9e27c3",
   "metadata": {},
   "outputs": [
    {
     "name": "stdout",
     "output_type": "stream",
     "text": [
      "First input: 65\n",
      "Second input:45\n",
      "110\n"
     ]
    }
   ],
   "source": [
    "# 6 Write a Python program which takes two inputs from user and print them addition.\n",
    "a= int(input(\"First input: \"));\n",
    "b= int(input(\"Second input:\"));\n",
    "print(a+b);"
   ]
  },
  {
   "cell_type": "code",
   "execution_count": 85,
   "id": "afbb6bd1",
   "metadata": {},
   "outputs": [
    {
     "name": "stdout",
     "output_type": "stream",
     "text": [
      "Maths marks:45\n",
      "Isl marks:55\n",
      "Eng marks:99\n",
      "Urdu marks:76\n",
      "Sci marks:84\n",
      "Total marks: 359\n",
      "Grade B\n"
     ]
    }
   ],
   "source": [
    "# 7 Write a Python program which takes 5 inputs from user for different subject's marks, total it and generate mark sheet using grades.\n",
    "maths = int(input(\"Maths marks:\"));\n",
    "isl = int(input(\"Isl marks:\"));\n",
    "eng = int(input(\"Eng marks:\"));\n",
    "urdu = int(input(\"Urdu marks:\"));\n",
    "sci = int(input(\"Sci marks:\"));\n",
    "total = 500;\n",
    "sum= maths + isl + eng + urdu + sci;\n",
    "print(\"Total marks:\" ,sum);\n",
    "percent =(maths + isl + eng + urdu + sci)/total*100;\n",
    "if percent < 100 and percent >=90:\n",
    "    print(\"Grade A+\");\n",
    "elif percent < 90 and percent >=80:\n",
    "    print(\"Grade A\");\n",
    "elif percent < 80 and percent >=70:\n",
    "    print(\"Grade B\");\n",
    "elif percent < 70 and percent >=60:\n",
    "    print(\"Grade c\");\n",
    "elif percent < 60 and percent >=50:\n",
    "    print(\"Grade D\");\n",
    "elif percent < 50 and percent >=40:\n",
    "    print(\"Grade E\");\n",
    "else:\n",
    "    print(\"fail\");"
   ]
  },
  {
   "cell_type": "code",
   "execution_count": 12,
   "id": "21c7e038",
   "metadata": {},
   "outputs": [
    {
     "name": "stdout",
     "output_type": "stream",
     "text": [
      "Enter number: 13\n",
      "Odd\n"
     ]
    }
   ],
   "source": [
    "# 8 Write a program which takes input from the user and identify that the given number is even or odd ?\n",
    "number= int(input(\"Enter number: \"));\n",
    "mod= number % 2;\n",
    "if mod > 0:\n",
    "    print(\"Odd\");\n",
    "else:\n",
    "    print(\"Even\");"
   ]
  },
  {
   "cell_type": "code",
   "execution_count": 137,
   "id": "b5653401",
   "metadata": {},
   "outputs": [
    {
     "name": "stdout",
     "output_type": "stream",
     "text": [
      "Length of the list= 7\n"
     ]
    }
   ],
   "source": [
    "# 9 Write a program which print the length of the list.\n",
    "arr=[1,4,5,6,'t','y',7];\n",
    "print(\"Length of the list=\", len(arr));"
   ]
  },
  {
   "cell_type": "code",
   "execution_count": 13,
   "id": "cb707e58",
   "metadata": {},
   "outputs": [
    {
     "name": "stdout",
     "output_type": "stream",
     "text": [
      "101\n"
     ]
    }
   ],
   "source": [
    "# 10 Write a Python program to sum all the numeric items in a list.\n",
    "arr=[2,4,66,21,8];\n",
    "arrs=arr[0]+arr[1]+arr[2]+arr[3]+arr[4]\n",
    "print(arrs);"
   ]
  },
  {
   "cell_type": "code",
   "execution_count": 16,
   "id": "7b4ba09f",
   "metadata": {},
   "outputs": [
    {
     "name": "stdout",
     "output_type": "stream",
     "text": [
      "Largest number= 6345\n"
     ]
    }
   ],
   "source": [
    "# 11 Write a Python program to get the largest number from a numberic list.\n",
    "arr=[44,77,999,456,6345,0];\n",
    "print(\"Largest number=\" ,max(arr));"
   ]
  },
  {
   "cell_type": "code",
   "execution_count": 22,
   "id": "20699ba5",
   "metadata": {},
   "outputs": [
    {
     "name": "stdout",
     "output_type": "stream",
     "text": [
      "1\n",
      "1\n",
      "2\n",
      "3\n"
     ]
    }
   ],
   "source": [
    "# 12 Write a Python program that prints all the elements of the list that are less than 5.\n",
    "a=[1,1,2,3,5,8,13,21,34,55,89];\n",
    "for i in a:\n",
    "    if i < 5:\n",
    "        print(i);"
   ]
  },
  {
   "cell_type": "code",
   "execution_count": null,
   "id": "ef1441cd",
   "metadata": {},
   "outputs": [],
   "source": []
  }
 ],
 "metadata": {
  "kernelspec": {
   "display_name": "Python 3",
   "language": "python",
   "name": "python3"
  },
  "language_info": {
   "codemirror_mode": {
    "name": "ipython",
    "version": 3
   },
   "file_extension": ".py",
   "mimetype": "text/x-python",
   "name": "python",
   "nbconvert_exporter": "python",
   "pygments_lexer": "ipython3",
   "version": "3.8.8"
  }
 },
 "nbformat": 4,
 "nbformat_minor": 5
}
